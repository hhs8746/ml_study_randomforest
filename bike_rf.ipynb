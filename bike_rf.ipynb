{
 "cells": [
  {
   "cell_type": "code",
   "execution_count": null,
   "id": "5685873a-9ca4-4e4e-9e83-99b249e2acd5",
   "metadata": {},
   "outputs": [],
   "source": [
    "import numpy as np \n",
    "import pandas as pd \n",
    "import warnings; warnings.filterwarnings(action='ignore') # 경고 메시지 무시\n",
    "import matplotlib.pyplot as plt \n",
    "\n",
    "from sklearn.model_selection import GridSearchCV\n",
    "from sklearn.model_selection import train_test_split # 훈련 데이터, 테스트 데이터 분리\n",
    "from sklearn.preprocessing import StandardScaler # 정규화\n",
    "from sklearn.ensemble import RandomForestClassifier as RFC # 랜덤포레스트 분류 알고리즘\n",
    "from sklearn.tree import DecisionTreeClassifier as DTC # 의사결정나무 분류 알고리즘\n",
    "\n"
   ]
  },
  {
   "cell_type": "code",
   "execution_count": null,
   "id": "8e2be7fb-829b-4fd1-ad60-7a674d77b9a0",
   "metadata": {},
   "outputs": [],
   "source": [
    "bike_train=pd.read_csv('train.csv',encoding='CP949')\n",
    "bike_test=pd.read_csv('test.csv',encoding='CP949')\n",
    "\n",
    "#train과 test 자료의 구조 살펴보기\n",
    "bike_train.shape\n",
    "(1459, 11)\n",
    "bike_test.shape\n",
    "(715, 10)"
   ]
  },
  {
   "cell_type": "code",
   "execution_count": null,
   "id": "87b74ce4-6d6a-4c86-ae1f-4ab930722097",
   "metadata": {},
   "outputs": [],
   "source": [
    "bike_train.head(10)\n",
    "bike_test.head(10)"
   ]
  },
  {
   "cell_type": "code",
   "execution_count": null,
   "id": "59ee904b-092a-46f8-a21b-b1d1b166e2c8",
   "metadata": {},
   "outputs": [],
   "source": [
    "#train 데이터의 결측치를 train데이터의 열의 평균으로 대체하였다. \n",
    "bike_train.fillna(bike_train.mean(),inplace=True)\n",
    "bike_train.isnull().sum()\n",
    "#test 데이터의 결측치를 test 데이터의 열의 평균으로 대체하였다. \n",
    "bike_test.fillna(bike_test.mean(),inplace=True)\n",
    "bike_test.isnull().sum()"
   ]
  },
  {
   "cell_type": "code",
   "execution_count": null,
   "id": "d7a59b0d-8af5-4c51-8129-4b9120e3dca0",
   "metadata": {},
   "outputs": [],
   "source": [
    "def remove_outlier(df):\n",
    "    q1 = df.quantile(0.25) # 제 1사분위수\n",
    "    q3 = df.quantile(0.75) # 제 3사분위수\n",
    "    iqr = q3 - q1 # IQR 계산\n",
    "    minimum = q1 - (iqr * 1.5) # IQR 최솟값\n",
    "    maximum = q3 + (iqr * 1.5) # IQR 최댓값\n",
    "    # IQR 범위 내에 있는 데이터만 산출(IQR 범위 밖의 데이터는 이상치)\n",
    "    df_removed = df[(minimum < df) & (df < maximum)]\n",
    "    return df_removed"
   ]
  },
  {
   "cell_type": "code",
   "execution_count": null,
   "id": "002a91ef-bdfa-42c4-b672-d07a3daee0c6",
   "metadata": {},
   "outputs": [],
   "source": [
    "#이상치를 제거한 df인 bike_train_r을 만들고 결측치를 제거하였다.\n",
    "bike_train_r=remove_outlier(bike_train)\n",
    "bike_train_r.isnull().sum()\n",
    "#이 과정을 통해 이상치가 제거된 df인 btr을 만들었다.\n",
    "btr=bike_train_r.dropna().reset_index(drop=True)\n",
    "btr"
   ]
  },
  {
   "cell_type": "code",
   "execution_count": null,
   "id": "5edadfbe-4640-439e-a3c2-39f9238efd5d",
   "metadata": {},
   "outputs": [],
   "source": [
    "dfall=pd.merge(bike_train,btr,how='inner')\n",
    "#hour_bef_precipitation은 비가오면 1 안오면 0의 자료였기 때문에 평균을 구해보았다.\n",
    "bike_train.hour_bef_precipitation.mean()\n",
    "->0.031571722717913524\n",
    "#hour_bef_precipitation 의 결측치 수는 2개였기 때문에 결측치에 0을 넣기로 결정했다.\n",
    "dfall.iloc[832,3]=0\n",
    "dfall.iloc[833,3]=0"
   ]
  }
 ],
 "metadata": {
  "kernelspec": {
   "display_name": "Python 3 (ipykernel)",
   "language": "python",
   "name": "python3"
  },
  "language_info": {
   "codemirror_mode": {
    "name": "ipython",
    "version": 3
   },
   "file_extension": ".py",
   "mimetype": "text/x-python",
   "name": "python",
   "nbconvert_exporter": "python",
   "pygments_lexer": "ipython3",
   "version": "3.9.13"
  }
 },
 "nbformat": 4,
 "nbformat_minor": 5
}
